{
 "cells": [
  {
   "cell_type": "code",
   "execution_count": null,
   "id": "8cd6c071-553e-493b-9447-8b56c8ac1c67",
   "metadata": {},
   "outputs": [],
   "source": [
    "# Import necessary libraries\n",
    "import albumentations as A  # Albumentations for image augmentation\n",
    "import cv2  # OpenCV for image processing\n",
    "import numpy as np  # NumPy for numerical operations\n",
    "import matplotlib.pyplot as plt  # Matplotlib for plotting and displaying images\n",
    "import os  # OS module to interact with the file system\n",
    "\n",
    "# Load the image\n",
    "image_path = r\"C:\\Users\\Khang Trung Nguyen\\Amanda4\\train_2.jpg\"  # Path to the input image\n",
    "image = cv2.imread(image_path)  # Read the image using OpenCV\n",
    "image = cv2.cvtColor(image, cv2.COLOR_BGR2RGB)  # Convert image from BGR (OpenCV format) to RGB (standard format)\n",
    "\n",
    "# Define a comprehensive augmentation pipeline with reduced color changes\n",
    "# Each transformation is applied with a probability, reducing the intensity and ensuring variation\n",
    "augmentation_pipeline = A.Compose([\n",
    "    A.HorizontalFlip(p=0.3),  # Random horizontal flip with a probability of 30%\n",
    "    A.VerticalFlip(p=0.3),  # Random vertical flip with a probability of 30%\n",
    "    A.RandomBrightnessContrast(brightness_limit=0.1, contrast_limit=0.1, p=0.2),  # Adjust brightness and contrast slightly (20% probability)\n",
    "    A.ShiftScaleRotate(shift_limit=0.1, scale_limit=0.1, rotate_limit=45, p=0.3),  # Random shift, scale, and rotation (30% probability)\n",
    "    A.RandomCrop(width=450, height=450, p=0.3),  # Random crop to a 450x450 section (30% probability)\n",
    "    A.Resize(height=500, width=500, p=1.0),  # Resize to a standard 500x500 image (always applied)\n",
    "    A.GaussNoise(var_limit=(10.0, 50.0), p=0.3),  # Add Gaussian noise with varying intensity (30% probability)\n",
    "    A.Blur(blur_limit=(3, 7), p=0.3),  # Apply blur with a random kernel size (30% probability)\n",
    "    A.ColorJitter(brightness=0.1, contrast=0.1, saturation=0.1, hue=0.1, p=0.2),  # Randomly adjust color properties (20% probability)\n",
    "    A.Affine(shear=(-15, 15), p=0.3)  # Apply affine transformation with shear (30% probability)\n",
    "])\n",
    "\n",
    "# Create a directory to save augmented images if it doesn't already exist\n",
    "output_dir = 'augmented_esp_images_2'  # Define the output directory\n",
    "os.makedirs(output_dir, exist_ok=True)  # Create the directory if it doesn't exist\n",
    "\n",
    "# Apply augmentations and save the images\n",
    "num_augmentations = 500  # Define how many augmented images to create\n",
    "for i in range(num_augmentations):\n",
    "    # Apply the augmentation pipeline to the image\n",
    "    augmented_image = augmentation_pipeline(image=image)['image']\n",
    "    \n",
    "    # Save the augmented image in the output directory\n",
    "    output_path = os.path.join(output_dir, f'augmented_{i}.jpg')\n",
    "    cv2.imwrite(output_path, cv2.cvtColor(augmented_image, cv2.COLOR_RGB2BGR))  # Save image in BGR format (OpenCV default)\n",
    "\n",
    "# Display a few examples of the augmented images\n",
    "fig, axes = plt.subplots(1, 5, figsize=(20, 5))  # Create a plot with 1 row and 5 columns for displaying images\n",
    "for ax, i in zip(axes, range(5)):  # Iterate over the first 5 augmented images\n",
    "    augmented_image = cv2.imread(os.path.join(output_dir, f'augmented_{i}.jpg'))  # Read the saved augmented image\n",
    "    augmented_image = cv2.cvtColor(augmented_image, cv2.COLOR_BGR2RGB)  # Convert from BGR to RGB for displaying\n",
    "    ax.imshow(augmented_image)  # Display the image in the plot\n",
    "    ax.axis('off')  # Turn off axis labels\n",
    "plt.show()  # Show the plot\n"
   ]
  }
 ],
 "metadata": {
  "kernelspec": {
   "display_name": "Amanda3venv",
   "language": "python",
   "name": "amanda3venv"
  },
  "language_info": {
   "codemirror_mode": {
    "name": "ipython",
    "version": 3
   },
   "file_extension": ".py",
   "mimetype": "text/x-python",
   "name": "python",
   "nbconvert_exporter": "python",
   "pygments_lexer": "ipython3",
   "version": "3.10.11"
  }
 },
 "nbformat": 4,
 "nbformat_minor": 5
}
